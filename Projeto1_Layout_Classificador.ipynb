{
 "cells": [
  {
   "cell_type": "markdown",
   "metadata": {},
   "source": [
    "# Projeto 1 - Ciência dos Dados"
   ]
  },
  {
   "cell_type": "markdown",
   "metadata": {},
   "source": [
    "Nome: Felipe Schiavinato\n",
    "\n",
    "Nome: Jerônimo Afrange"
   ]
  },
  {
   "cell_type": "markdown",
   "metadata": {},
   "source": [
    "Atenção: Serão permitidos grupos de três pessoas, mas com uma rubrica mais exigente. Grupos deste tamanho precisarão fazer um questionário de avaliação de trabalho em equipe"
   ]
  },
  {
   "cell_type": "markdown",
   "metadata": {},
   "source": [
    "___\n",
    "Carregando algumas bibliotecas:"
   ]
  },
  {
   "cell_type": "code",
   "execution_count": 1,
   "metadata": {},
   "outputs": [],
   "source": [
    "%matplotlib inline\n",
    "import pandas as pd\n",
    "import matplotlib.pyplot as plt\n",
    "import numpy as np\n",
    "import os"
   ]
  },
  {
   "cell_type": "code",
   "execution_count": 2,
   "metadata": {
    "scrolled": false
   },
   "outputs": [
    {
     "name": "stdout",
     "output_type": "stream",
     "text": [
      "Esperamos trabalhar no diretório\n",
      "/Users/jeronimo/Desktop/Insper/2/CDADOS/p1-cdados\n"
     ]
    }
   ],
   "source": [
    "print('Esperamos trabalhar no diretório')\n",
    "print(os.getcwd())"
   ]
  },
  {
   "cell_type": "markdown",
   "metadata": {},
   "source": [
    "Carregando a base de dados com os tweets classificados como relevantes e não relevantes:"
   ]
  },
  {
   "cell_type": "code",
   "execution_count": 3,
   "metadata": {},
   "outputs": [],
   "source": [
    "filename = 'bitcoin.xlsx'"
   ]
  },
  {
   "cell_type": "code",
   "execution_count": 4,
   "metadata": {},
   "outputs": [
    {
     "data": {
      "text/html": [
       "<div>\n",
       "<style scoped>\n",
       "    .dataframe tbody tr th:only-of-type {\n",
       "        vertical-align: middle;\n",
       "    }\n",
       "\n",
       "    .dataframe tbody tr th {\n",
       "        vertical-align: top;\n",
       "    }\n",
       "\n",
       "    .dataframe thead th {\n",
       "        text-align: right;\n",
       "    }\n",
       "</style>\n",
       "<table border=\"1\" class=\"dataframe\">\n",
       "  <thead>\n",
       "    <tr style=\"text-align: right;\">\n",
       "      <th></th>\n",
       "      <th>Treinamento</th>\n",
       "      <th>Relevancia</th>\n",
       "    </tr>\n",
       "  </thead>\n",
       "  <tbody>\n",
       "    <tr>\n",
       "      <td>0</td>\n",
       "      <td>do you think it is ethical of exchanges to ear...</td>\n",
       "      <td>3.0</td>\n",
       "    </tr>\n",
       "    <tr>\n",
       "      <td>1</td>\n",
       "      <td>@junkosu22993224: citi bank is the first major...</td>\n",
       "      <td>3.0</td>\n",
       "    </tr>\n",
       "    <tr>\n",
       "      <td>2</td>\n",
       "      <td>@wsbmod: it's time to decentralize wallstreetb...</td>\n",
       "      <td>2.0</td>\n",
       "    </tr>\n",
       "    <tr>\n",
       "      <td>3</td>\n",
       "      <td>@iamlluciana charlie the bitcoin fund manager ...</td>\n",
       "      <td>1.0</td>\n",
       "    </tr>\n",
       "    <tr>\n",
       "      <td>4</td>\n",
       "      <td>#btc #bitcoin #forex\\nus stocks set for swoon ...</td>\n",
       "      <td>0.0</td>\n",
       "    </tr>\n",
       "  </tbody>\n",
       "</table>\n",
       "</div>"
      ],
      "text/plain": [
       "                                         Treinamento  Relevancia\n",
       "0  do you think it is ethical of exchanges to ear...         3.0\n",
       "1  @junkosu22993224: citi bank is the first major...         3.0\n",
       "2  @wsbmod: it's time to decentralize wallstreetb...         2.0\n",
       "3  @iamlluciana charlie the bitcoin fund manager ...         1.0\n",
       "4  #btc #bitcoin #forex\\nus stocks set for swoon ...         0.0"
      ]
     },
     "execution_count": 4,
     "metadata": {},
     "output_type": "execute_result"
    }
   ],
   "source": [
    "dados_treinamento = pd.read_excel(filename)\n",
    "dados_treinamento.head(5)"
   ]
  },
  {
   "cell_type": "code",
   "execution_count": 5,
   "metadata": {},
   "outputs": [
    {
     "data": {
      "text/html": [
       "<div>\n",
       "<style scoped>\n",
       "    .dataframe tbody tr th:only-of-type {\n",
       "        vertical-align: middle;\n",
       "    }\n",
       "\n",
       "    .dataframe tbody tr th {\n",
       "        vertical-align: top;\n",
       "    }\n",
       "\n",
       "    .dataframe thead th {\n",
       "        text-align: right;\n",
       "    }\n",
       "</style>\n",
       "<table border=\"1\" class=\"dataframe\">\n",
       "  <thead>\n",
       "    <tr style=\"text-align: right;\">\n",
       "      <th></th>\n",
       "      <th>Teste</th>\n",
       "      <th>Relevancia</th>\n",
       "    </tr>\n",
       "  </thead>\n",
       "  <tbody>\n",
       "    <tr>\n",
       "      <td>0</td>\n",
       "      <td>@phorecrypto: a snapshot of #phore blockchain ...</td>\n",
       "      <td>2.0</td>\n",
       "    </tr>\n",
       "    <tr>\n",
       "      <td>1</td>\n",
       "      <td>@riena_smile: bottlepay launches twitter bitco...</td>\n",
       "      <td>3.0</td>\n",
       "    </tr>\n",
       "    <tr>\n",
       "      <td>2</td>\n",
       "      <td>@btc_archive: #bitcoin on target for 75k  in t...</td>\n",
       "      <td>3.0</td>\n",
       "    </tr>\n",
       "    <tr>\n",
       "      <td>3</td>\n",
       "      <td>@grady_booch at this stage it seems vanishingl...</td>\n",
       "      <td>3.0</td>\n",
       "    </tr>\n",
       "    <tr>\n",
       "      <td>4</td>\n",
       "      <td>@ragnarly i have 3 kids. simply cant ask aroun...</td>\n",
       "      <td>2.0</td>\n",
       "    </tr>\n",
       "  </tbody>\n",
       "</table>\n",
       "</div>"
      ],
      "text/plain": [
       "                                               Teste  Relevancia\n",
       "0  @phorecrypto: a snapshot of #phore blockchain ...         2.0\n",
       "1  @riena_smile: bottlepay launches twitter bitco...         3.0\n",
       "2  @btc_archive: #bitcoin on target for 75k  in t...         3.0\n",
       "3  @grady_booch at this stage it seems vanishingl...         3.0\n",
       "4  @ragnarly i have 3 kids. simply cant ask aroun...         2.0"
      ]
     },
     "execution_count": 5,
     "metadata": {},
     "output_type": "execute_result"
    }
   ],
   "source": [
    "test = pd.read_excel(filename, sheet_name = 'Teste')\n",
    "test.head(5)"
   ]
  },
  {
   "cell_type": "markdown",
   "metadata": {},
   "source": [
    "___\n",
    "## Classificador automático de sentimento\n"
   ]
  },
  {
   "cell_type": "markdown",
   "metadata": {},
   "source": [
    "Faça aqui uma descrição do seu produto e o que considerou como relevante ou não relevante na classificação dos tweets."
   ]
  },
  {
   "cell_type": "markdown",
   "metadata": {},
   "source": [
    "O nosso produto é o Bitcoin, e temos como objetivo analisar a opinião do público a respeito dessa criptomoeda específica. Classificamos a relevância dos Tweets com uma nota de 0 a 4, sendo 0 completamente irrelevante e 4 completamente relevante.\n",
    "\n",
    "Consideramos como completamente irrelevantes Tweets que mencionam o nome Bitcoin mas não estão relacionados à criptomoeda, assim como Tweets de zombaria.\n",
    "\n",
    "Consideramos como completamente relevantes Tweets que mencionam a criptomoeda, sejam, de fato, a respeito do nosso produto e autênticos."
   ]
  },
  {
   "cell_type": "markdown",
   "metadata": {},
   "source": [
    "___\n",
    "### Montando um Classificador Naive-Bayes\n",
    "\n",
    "Considerando apenas as mensagens da planilha Treinamento, ensine  seu classificador."
   ]
  },
  {
   "cell_type": "code",
   "execution_count": 6,
   "metadata": {},
   "outputs": [],
   "source": [
    "\n",
    "# extração das palavras\n",
    "palavras_por_relevancia = [[],[],[],[],[]]\n",
    "\n",
    "# elementos bloqueados\n",
    "blacklist = \"[!-—.:?;,#…']•()1234567890%$/\\’+*\" + '\"“”'\n",
    "\n",
    "# palavras inúteis\n",
    "with open('useless_words.txt') as file:\n",
    "    palavras_inuteis = file.read().split()\n",
    "\n",
    "tweets = dados_treinamento['Treinamento']\n",
    "relevancias = dados_treinamento['Relevancia']\n",
    "\n",
    "# loop que passa tweet por tweet\n",
    "for indice in range(len(tweets)):\n",
    "    \n",
    "    # cria constantes 'tweet_original' e 'relevancia'\n",
    "    try: relevancia = int(relevancias[indice])\n",
    "    except: continue\n",
    "    tweet_original = tweets[indice]\n",
    "    \n",
    "    # remove links e nomes de usuário\n",
    "    tweet_lista = tweet_original.split()\n",
    "    tweet_sem_nomes_links = list()\n",
    "    \n",
    "    for palavra in tweet_lista:\n",
    "        \n",
    "        # remove letras maiúsculas\n",
    "        palavra = palavra.lower()\n",
    "                \n",
    "        not_link = 'http' not in palavra\n",
    "        not_usuario = '@' not in palavra\n",
    "        \n",
    "        if not_link and not_usuario:\n",
    "            tweet_sem_nomes_links.append(palavra)\n",
    "        \n",
    "    tweet = ' '.join(tweet_sem_nomes_links)\n",
    "    \n",
    "    '''\n",
    "    *** a partir desse ponto, 'tweet' não tem mais nomes de usuário nem links\n",
    "    '''\n",
    "    \n",
    "    # remove caracteres bloqueados\n",
    "    for carac in blacklist:\n",
    "        \n",
    "        if carac in tweet:\n",
    "            tweet = tweet.split(carac)\n",
    "            tweet = ' '.join(tweet)\n",
    "                \n",
    "    '''\n",
    "    *** a partir desse ponto, 'tweet' não tem mais caracteres bloqueados\n",
    "    '''\n",
    "        \n",
    "    # remove palavras inúteis\n",
    "    tweet = tweet.split()\n",
    "    \n",
    "    for inutil in palavras_inuteis:\n",
    "        while inutil in tweet:\n",
    "            tweet.remove(inutil)\n",
    "    \n",
    "    tweet = ' '.join(tweet)\n",
    "            \n",
    "    '''\n",
    "    *** a partir desse ponto, 'tweet' não tem mais palavras inúteis\n",
    "    '''\n",
    "                \n",
    "    # remove espaços em branco duplos\n",
    "    tweet = tweet.split()\n",
    "    while '' in tweet: tweet.remove('')\n",
    "    tweet = ' '.join(tweet)\n",
    "    \n",
    "    '''\n",
    "    *** a partir desse ponto, 'tweet' não tem espaços em branco repetidos\n",
    "    '''\n",
    "    \n",
    "    # adicionando as palavras à lista de palavras da respectiva relevância\n",
    "    palavras_por_relevancia[relevancia] += tweet.split()\n",
    "    "
   ]
  },
  {
   "cell_type": "code",
   "execution_count": 24,
   "metadata": {},
   "outputs": [],
   "source": [
    "\n",
    "# define a lista que conterá as series das frequências normalizadas\n",
    "# das palavras para cada grau de relevancia\n",
    "tabelas_relativas_por_relevancia = list()\n",
    "palavras_ingles = list()\n",
    "\n",
    "for palavras in palavras_por_relevancia:\n",
    "    tabelas_relativas_por_relevancia.append(pd.Series(palavras).value_counts(True))\n",
    "    palavras_ingles += palavras\n",
    "\n",
    "tabela_ingles_relativa = pd.Series(palavras_ingles).value_counts(True)"
   ]
  },
  {
   "cell_type": "markdown",
   "metadata": {},
   "source": [
    "___\n",
    "### Verificando a performance do Classificador\n",
    "\n",
    "Agora você deve testar o seu classificador com a base de Testes."
   ]
  },
  {
   "cell_type": "code",
   "execution_count": null,
   "metadata": {},
   "outputs": [],
   "source": []
  },
  {
   "cell_type": "code",
   "execution_count": null,
   "metadata": {},
   "outputs": [],
   "source": []
  },
  {
   "cell_type": "code",
   "execution_count": null,
   "metadata": {},
   "outputs": [],
   "source": []
  },
  {
   "cell_type": "markdown",
   "metadata": {},
   "source": [
    "___\n",
    "### Concluindo"
   ]
  },
  {
   "cell_type": "code",
   "execution_count": null,
   "metadata": {},
   "outputs": [],
   "source": []
  },
  {
   "cell_type": "code",
   "execution_count": null,
   "metadata": {},
   "outputs": [],
   "source": []
  },
  {
   "cell_type": "code",
   "execution_count": null,
   "metadata": {},
   "outputs": [],
   "source": []
  },
  {
   "cell_type": "markdown",
   "metadata": {},
   "source": [
    "___\n",
    "### Qualidade do Classificador a partir de novas separações dos tweets entre Treinamento e Teste\n",
    "\n",
    "Caso for fazer esse item do Projeto"
   ]
  },
  {
   "cell_type": "code",
   "execution_count": null,
   "metadata": {},
   "outputs": [],
   "source": []
  },
  {
   "cell_type": "code",
   "execution_count": null,
   "metadata": {},
   "outputs": [],
   "source": []
  },
  {
   "cell_type": "code",
   "execution_count": null,
   "metadata": {},
   "outputs": [],
   "source": []
  },
  {
   "cell_type": "markdown",
   "metadata": {},
   "source": [
    "___\n",
    "## Aperfeiçoamento:\n",
    "\n",
    "Os trabalhos vão evoluir em conceito dependendo da quantidade de itens avançados:\n",
    "\n",
    "* Limpar: \\n, :, \", ', (, ), etc SEM remover emojis\n",
    "* Corrigir separação de espaços entre palavras e emojis ou entre emojis e emojis\n",
    "* Propor outras limpezas e transformações que não afetem a qualidade da informação ou classificação\n",
    "* Criar categorias intermediárias de relevância baseadas na probabilidade: ex.: muito relevante, relevante, neutro, irrelevante, muito irrelevante (3 categorias: C, mais categorias conta para B)\n",
    "* Explicar por que não posso usar o próprio classificador para gerar mais amostras de treinamento\n",
    "* Propor diferentes cenários para Naïve Bayes fora do contexto do projeto\n",
    "* Sugerir e explicar melhorias reais com indicações concretas de como implementar (indicar como fazer e indicar material de pesquisa)\n"
   ]
  },
  {
   "cell_type": "markdown",
   "metadata": {},
   "source": [
    "___\n",
    "## Referências"
   ]
  },
  {
   "cell_type": "markdown",
   "metadata": {},
   "source": [
    "[Naive Bayes and Text Classification](https://arxiv.org/pdf/1410.5329.pdf)  **Mais completo**\n",
    "\n",
    "[A practical explanation of a Naive Bayes Classifier](https://monkeylearn.com/blog/practical-explanation-naive-bayes-classifier/) **Mais simples**"
   ]
  },
  {
   "cell_type": "code",
   "execution_count": null,
   "metadata": {},
   "outputs": [],
   "source": []
  }
 ],
 "metadata": {
  "kernelspec": {
   "display_name": "Python 3",
   "language": "python",
   "name": "python3"
  },
  "language_info": {
   "codemirror_mode": {
    "name": "ipython",
    "version": 3
   },
   "file_extension": ".py",
   "mimetype": "text/x-python",
   "name": "python",
   "nbconvert_exporter": "python",
   "pygments_lexer": "ipython3",
   "version": "3.7.4"
  }
 },
 "nbformat": 4,
 "nbformat_minor": 4
}
